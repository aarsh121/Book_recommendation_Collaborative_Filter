{
 "cells": [
  {
   "cell_type": "code",
   "execution_count": 4,
   "id": "16ecef80-8132-4ead-9af9-a0a6539b1981",
   "metadata": {},
   "outputs": [],
   "source": [
    "import gzip\n",
    "with gzip.open('Downloads/goodreads_books.json.gz', 'r') as f:\n",
    "               line=f.readline()"
   ]
  },
  {
   "cell_type": "code",
   "execution_count": 5,
   "id": "6a6913ea-fb4d-458f-8bdd-9c1553de9120",
   "metadata": {},
   "outputs": [
    {
     "data": {
      "text/plain": [
       "b'{\"isbn\": \"0312853122\", \"text_reviews_count\": \"1\", \"series\": [], \"country_code\": \"US\", \"language_code\": \"\", \"popular_shelves\": [{\"count\": \"3\", \"name\": \"to-read\"}, {\"count\": \"1\", \"name\": \"p\"}, {\"count\": \"1\", \"name\": \"collection\"}, {\"count\": \"1\", \"name\": \"w-c-fields\"}, {\"count\": \"1\", \"name\": \"biography\"}], \"asin\": \"\", \"is_ebook\": \"false\", \"average_rating\": \"4.00\", \"kindle_asin\": \"\", \"similar_books\": [], \"description\": \"\", \"format\": \"Paperback\", \"link\": \"https://www.goodreads.com/book/show/5333265-w-c-fields\", \"authors\": [{\"author_id\": \"604031\", \"role\": \"\"}], \"publisher\": \"St. Martin\\'s Press\", \"num_pages\": \"256\", \"publication_day\": \"1\", \"isbn13\": \"9780312853129\", \"publication_month\": \"9\", \"edition_information\": \"\", \"publication_year\": \"1984\", \"url\": \"https://www.goodreads.com/book/show/5333265-w-c-fields\", \"image_url\": \"https://images.gr-assets.com/books/1310220028m/5333265.jpg\", \"book_id\": \"5333265\", \"ratings_count\": \"3\", \"work_id\": \"5400751\", \"title\": \"W.C. Fields: A Life on Film\", \"title_without_series\": \"W.C. Fields: A Life on Film\"}\\n'"
      ]
     },
     "execution_count": 5,
     "metadata": {},
     "output_type": "execute_result"
    }
   ],
   "source": [
    "line"
   ]
  },
  {
   "cell_type": "code",
   "execution_count": 9,
   "id": "bfc43a0e-ccc4-478f-987e-5bf00416bd78",
   "metadata": {},
   "outputs": [
    {
     "data": {
      "text/plain": [
       "{'isbn': '0312853122',\n",
       " 'text_reviews_count': '1',\n",
       " 'series': [],\n",
       " 'country_code': 'US',\n",
       " 'language_code': '',\n",
       " 'popular_shelves': [{'count': '3', 'name': 'to-read'},\n",
       "  {'count': '1', 'name': 'p'},\n",
       "  {'count': '1', 'name': 'collection'},\n",
       "  {'count': '1', 'name': 'w-c-fields'},\n",
       "  {'count': '1', 'name': 'biography'}],\n",
       " 'asin': '',\n",
       " 'is_ebook': 'false',\n",
       " 'average_rating': '4.00',\n",
       " 'kindle_asin': '',\n",
       " 'similar_books': [],\n",
       " 'description': '',\n",
       " 'format': 'Paperback',\n",
       " 'link': 'https://www.goodreads.com/book/show/5333265-w-c-fields',\n",
       " 'authors': [{'author_id': '604031', 'role': ''}],\n",
       " 'publisher': \"St. Martin's Press\",\n",
       " 'num_pages': '256',\n",
       " 'publication_day': '1',\n",
       " 'isbn13': '9780312853129',\n",
       " 'publication_month': '9',\n",
       " 'edition_information': '',\n",
       " 'publication_year': '1984',\n",
       " 'url': 'https://www.goodreads.com/book/show/5333265-w-c-fields',\n",
       " 'image_url': 'https://images.gr-assets.com/books/1310220028m/5333265.jpg',\n",
       " 'book_id': '5333265',\n",
       " 'ratings_count': '3',\n",
       " 'work_id': '5400751',\n",
       " 'title': 'W.C. Fields: A Life on Film',\n",
       " 'title_without_series': 'W.C. Fields: A Life on Film'}"
      ]
     },
     "execution_count": 9,
     "metadata": {},
     "output_type": "execute_result"
    }
   ],
   "source": [
    "import json\n",
    "json.loads(line)"
   ]
  },
  {
   "cell_type": "code",
   "execution_count": 12,
   "id": "5b973de4-0b89-480d-8280-38c88922e8ef",
   "metadata": {},
   "outputs": [],
   "source": [
    "def parse_fields(line):\n",
    "    data=json.loads(line)\n",
    "    return{\n",
    "        'book_id' :data['book_id'],\n",
    "        'title':data['title'],\n",
    "        'rating_count':data['ratings_count'],\n",
    "        'url':data['url'],\n",
    "        'cover_image':data['image_url']\n",
    "    }"
   ]
  },
  {
   "cell_type": "code",
   "execution_count": 14,
   "id": "2813df36-83b8-4b50-a0cf-0dae32bc7718",
   "metadata": {},
   "outputs": [],
   "source": [
    "book_titles=[]\n",
    "\n",
    "with gzip.open('Downloads/goodreads_books.json.gz', 'r') as f:\n",
    "    while True:\n",
    "        line=f.readline()\n",
    "        if not line:\n",
    "            break\n",
    "        fields=parse_fields(line)\n",
    "        try:\n",
    "            ratings=int(fields['rating_count'])\n",
    "        except ValueError:\n",
    "            continue\n",
    "        if ratings>20:\n",
    "            book_titles.append(fields)"
   ]
  },
  {
   "cell_type": "code",
   "execution_count": 15,
   "id": "b82b5b5c-e84c-4184-b5c2-f2f10d2d0957",
   "metadata": {},
   "outputs": [],
   "source": [
    "import pandas as pd\n",
    "\n",
    "titles= pd.DataFrame.from_dict(book_titles)"
   ]
  },
  {
   "cell_type": "code",
   "execution_count": 16,
   "id": "6d2cb81c-7d0a-4898-923b-08a283e68d15",
   "metadata": {},
   "outputs": [],
   "source": [
    "titles['rating_count'] = pd.to_numeric(titles['rating_count'])"
   ]
  },
  {
   "cell_type": "code",
   "execution_count": 19,
   "id": "7d2871b2-5cfe-411f-96c6-ea4ce1220909",
   "metadata": {},
   "outputs": [],
   "source": [
    "#Preprocessing on the titles. Replacing any unecessary charachter.\n",
    "titles['mod_titles']=titles['title'].str.replace(\"[^a-zA-Z0-9]\", \" \", regex=True)"
   ]
  },
  {
   "cell_type": "code",
   "execution_count": 20,
   "id": "9ec73420-12e5-4d81-8570-788fdd3de9be",
   "metadata": {},
   "outputs": [
    {
     "data": {
      "text/html": [
       "<div>\n",
       "<style scoped>\n",
       "    .dataframe tbody tr th:only-of-type {\n",
       "        vertical-align: middle;\n",
       "    }\n",
       "\n",
       "    .dataframe tbody tr th {\n",
       "        vertical-align: top;\n",
       "    }\n",
       "\n",
       "    .dataframe thead th {\n",
       "        text-align: right;\n",
       "    }\n",
       "</style>\n",
       "<table border=\"1\" class=\"dataframe\">\n",
       "  <thead>\n",
       "    <tr style=\"text-align: right;\">\n",
       "      <th></th>\n",
       "      <th>book_id</th>\n",
       "      <th>title</th>\n",
       "      <th>rating_count</th>\n",
       "      <th>url</th>\n",
       "      <th>cover_image</th>\n",
       "      <th>mod_titles</th>\n",
       "    </tr>\n",
       "  </thead>\n",
       "  <tbody>\n",
       "    <tr>\n",
       "      <th>0</th>\n",
       "      <td>7327624</td>\n",
       "      <td>The Unschooled Wizard (Sun Wolf and Starhawk, ...</td>\n",
       "      <td>140</td>\n",
       "      <td>https://www.goodreads.com/book/show/7327624-th...</td>\n",
       "      <td>https://images.gr-assets.com/books/1304100136m...</td>\n",
       "      <td>The Unschooled Wizard  Sun Wolf and Starhawk  ...</td>\n",
       "    </tr>\n",
       "    <tr>\n",
       "      <th>1</th>\n",
       "      <td>6066819</td>\n",
       "      <td>Best Friends Forever</td>\n",
       "      <td>51184</td>\n",
       "      <td>https://www.goodreads.com/book/show/6066819-be...</td>\n",
       "      <td>https://s.gr-assets.com/assets/nophoto/book/11...</td>\n",
       "      <td>Best Friends Forever</td>\n",
       "    </tr>\n",
       "    <tr>\n",
       "      <th>2</th>\n",
       "      <td>287141</td>\n",
       "      <td>The Aeneid for Boys and Girls</td>\n",
       "      <td>46</td>\n",
       "      <td>https://www.goodreads.com/book/show/287141.The...</td>\n",
       "      <td>https://s.gr-assets.com/assets/nophoto/book/11...</td>\n",
       "      <td>The Aeneid for Boys and Girls</td>\n",
       "    </tr>\n",
       "    <tr>\n",
       "      <th>3</th>\n",
       "      <td>6066812</td>\n",
       "      <td>All's Fairy in Love and War (Avalon: Web of Ma...</td>\n",
       "      <td>98</td>\n",
       "      <td>https://www.goodreads.com/book/show/6066812-al...</td>\n",
       "      <td>https://images.gr-assets.com/books/1316637798m...</td>\n",
       "      <td>All s Fairy in Love and War  Avalon  Web of Ma...</td>\n",
       "    </tr>\n",
       "    <tr>\n",
       "      <th>4</th>\n",
       "      <td>287149</td>\n",
       "      <td>The Devil's Notebook</td>\n",
       "      <td>986</td>\n",
       "      <td>https://www.goodreads.com/book/show/287149.The...</td>\n",
       "      <td>https://images.gr-assets.com/books/1328768789m...</td>\n",
       "      <td>The Devil s Notebook</td>\n",
       "    </tr>\n",
       "    <tr>\n",
       "      <th>...</th>\n",
       "      <td>...</td>\n",
       "      <td>...</td>\n",
       "      <td>...</td>\n",
       "      <td>...</td>\n",
       "      <td>...</td>\n",
       "      <td>...</td>\n",
       "    </tr>\n",
       "    <tr>\n",
       "      <th>1171886</th>\n",
       "      <td>1370179</td>\n",
       "      <td>The Brazilian Boss's Innocent Mistress</td>\n",
       "      <td>240</td>\n",
       "      <td>https://www.goodreads.com/book/show/1370179.Th...</td>\n",
       "      <td>https://s.gr-assets.com/assets/nophoto/book/11...</td>\n",
       "      <td>The Brazilian Boss s Innocent Mistress</td>\n",
       "    </tr>\n",
       "    <tr>\n",
       "      <th>1171887</th>\n",
       "      <td>17805813</td>\n",
       "      <td>Ondine (Ondine Quartet, #0.5)</td>\n",
       "      <td>327</td>\n",
       "      <td>https://www.goodreads.com/book/show/17805813-o...</td>\n",
       "      <td>https://images.gr-assets.com/books/1379766592m...</td>\n",
       "      <td>Ondine  Ondine Quartet   0 5</td>\n",
       "    </tr>\n",
       "    <tr>\n",
       "      <th>1171888</th>\n",
       "      <td>2685097</td>\n",
       "      <td>The Spaniard's Blackmailed Bride</td>\n",
       "      <td>112</td>\n",
       "      <td>https://www.goodreads.com/book/show/2685097-th...</td>\n",
       "      <td>https://s.gr-assets.com/assets/nophoto/book/11...</td>\n",
       "      <td>The Spaniard s Blackmailed Bride</td>\n",
       "    </tr>\n",
       "    <tr>\n",
       "      <th>1171889</th>\n",
       "      <td>2342551</td>\n",
       "      <td>The Children's Classic Poetry Collection</td>\n",
       "      <td>36</td>\n",
       "      <td>https://www.goodreads.com/book/show/2342551.Th...</td>\n",
       "      <td>https://s.gr-assets.com/assets/nophoto/book/11...</td>\n",
       "      <td>The Children s Classic Poetry Collection</td>\n",
       "    </tr>\n",
       "    <tr>\n",
       "      <th>1171890</th>\n",
       "      <td>22017381</td>\n",
       "      <td>101 Nights: Volume One (101 Nights, #1-3)</td>\n",
       "      <td>70</td>\n",
       "      <td>https://www.goodreads.com/book/show/22017381-1...</td>\n",
       "      <td>https://images.gr-assets.com/books/1398621236m...</td>\n",
       "      <td>101 Nights  Volume One  101 Nights   1 3</td>\n",
       "    </tr>\n",
       "  </tbody>\n",
       "</table>\n",
       "<p>1171891 rows × 6 columns</p>\n",
       "</div>"
      ],
      "text/plain": [
       "          book_id                                              title  \\\n",
       "0         7327624  The Unschooled Wizard (Sun Wolf and Starhawk, ...   \n",
       "1         6066819                               Best Friends Forever   \n",
       "2          287141                      The Aeneid for Boys and Girls   \n",
       "3         6066812  All's Fairy in Love and War (Avalon: Web of Ma...   \n",
       "4          287149                               The Devil's Notebook   \n",
       "...           ...                                                ...   \n",
       "1171886   1370179             The Brazilian Boss's Innocent Mistress   \n",
       "1171887  17805813                      Ondine (Ondine Quartet, #0.5)   \n",
       "1171888   2685097                   The Spaniard's Blackmailed Bride   \n",
       "1171889   2342551           The Children's Classic Poetry Collection   \n",
       "1171890  22017381          101 Nights: Volume One (101 Nights, #1-3)   \n",
       "\n",
       "         rating_count                                                url  \\\n",
       "0                 140  https://www.goodreads.com/book/show/7327624-th...   \n",
       "1               51184  https://www.goodreads.com/book/show/6066819-be...   \n",
       "2                  46  https://www.goodreads.com/book/show/287141.The...   \n",
       "3                  98  https://www.goodreads.com/book/show/6066812-al...   \n",
       "4                 986  https://www.goodreads.com/book/show/287149.The...   \n",
       "...               ...                                                ...   \n",
       "1171886           240  https://www.goodreads.com/book/show/1370179.Th...   \n",
       "1171887           327  https://www.goodreads.com/book/show/17805813-o...   \n",
       "1171888           112  https://www.goodreads.com/book/show/2685097-th...   \n",
       "1171889            36  https://www.goodreads.com/book/show/2342551.Th...   \n",
       "1171890            70  https://www.goodreads.com/book/show/22017381-1...   \n",
       "\n",
       "                                               cover_image  \\\n",
       "0        https://images.gr-assets.com/books/1304100136m...   \n",
       "1        https://s.gr-assets.com/assets/nophoto/book/11...   \n",
       "2        https://s.gr-assets.com/assets/nophoto/book/11...   \n",
       "3        https://images.gr-assets.com/books/1316637798m...   \n",
       "4        https://images.gr-assets.com/books/1328768789m...   \n",
       "...                                                    ...   \n",
       "1171886  https://s.gr-assets.com/assets/nophoto/book/11...   \n",
       "1171887  https://images.gr-assets.com/books/1379766592m...   \n",
       "1171888  https://s.gr-assets.com/assets/nophoto/book/11...   \n",
       "1171889  https://s.gr-assets.com/assets/nophoto/book/11...   \n",
       "1171890  https://images.gr-assets.com/books/1398621236m...   \n",
       "\n",
       "                                                mod_titles  \n",
       "0        The Unschooled Wizard  Sun Wolf and Starhawk  ...  \n",
       "1                                     Best Friends Forever  \n",
       "2                            The Aeneid for Boys and Girls  \n",
       "3        All s Fairy in Love and War  Avalon  Web of Ma...  \n",
       "4                                     The Devil s Notebook  \n",
       "...                                                    ...  \n",
       "1171886             The Brazilian Boss s Innocent Mistress  \n",
       "1171887                      Ondine  Ondine Quartet   0 5   \n",
       "1171888                   The Spaniard s Blackmailed Bride  \n",
       "1171889           The Children s Classic Poetry Collection  \n",
       "1171890          101 Nights  Volume One  101 Nights   1 3   \n",
       "\n",
       "[1171891 rows x 6 columns]"
      ]
     },
     "execution_count": 20,
     "metadata": {},
     "output_type": "execute_result"
    }
   ],
   "source": [
    "titles"
   ]
  },
  {
   "cell_type": "code",
   "execution_count": 21,
   "id": "7fec3eea-d3c7-4edc-8bba-a89272e7de36",
   "metadata": {},
   "outputs": [],
   "source": [
    "titles['mod_titles']= titles['mod_titles'].str.lower()"
   ]
  },
  {
   "cell_type": "code",
   "execution_count": 22,
   "id": "3fe36b9c-6004-4475-a53f-11a22d8c8202",
   "metadata": {},
   "outputs": [
    {
     "name": "stderr",
     "output_type": "stream",
     "text": [
      "<>:1: SyntaxWarning: invalid escape sequence '\\s'\n",
      "<>:1: SyntaxWarning: invalid escape sequence '\\s'\n",
      "C:\\Users\\Ramadhir\\AppData\\Local\\Temp\\ipykernel_8080\\3653557669.py:1: SyntaxWarning: invalid escape sequence '\\s'\n",
      "  titles['mod_titles']=titles['mod_titles'].str.replace(\"\\s+\", \" \", regex=True)\n"
     ]
    }
   ],
   "source": [
    "titles['mod_titles']=titles['mod_titles'].str.replace(\"\\s+\", \" \", regex=True)"
   ]
  },
  {
   "cell_type": "code",
   "execution_count": 24,
   "id": "8c68e08b-1379-4815-bcd2-8e66ae241baf",
   "metadata": {},
   "outputs": [],
   "source": [
    "titles=titles[titles['mod_titles'].str.len()>0]"
   ]
  },
  {
   "cell_type": "code",
   "execution_count": 26,
   "id": "ccea0adb-8012-4354-86f2-b4e3bb247bce",
   "metadata": {},
   "outputs": [
    {
     "data": {
      "text/plain": [
       "(1171891, 6)"
      ]
     },
     "execution_count": 26,
     "metadata": {},
     "output_type": "execute_result"
    }
   ],
   "source": [
    "titles.shape"
   ]
  },
  {
   "cell_type": "code",
   "execution_count": 27,
   "id": "7dad1dd3-3ea2-45bf-8b4e-ab853cbcb580",
   "metadata": {},
   "outputs": [],
   "source": [
    "titles.to_json('Book_title.json')"
   ]
  },
  {
   "cell_type": "markdown",
   "id": "f100b864-d3d2-4645-9a9c-567674bc3d9c",
   "metadata": {},
   "source": [
    "##Building Search Engine"
   ]
  },
  {
   "cell_type": "code",
   "execution_count": 40,
   "id": "ae0206aa-c8e8-4aef-a481-12f4a671fc53",
   "metadata": {},
   "outputs": [],
   "source": [
    "from sklearn.feature_extraction.text import TfidfVectorizer\n",
    "\n",
    "vectorizer=TfidfVectorizer()\n",
    "tfidf=vectorizer.fit_transform(titles['mod_titles'])"
   ]
  },
  {
   "cell_type": "code",
   "execution_count": 41,
   "id": "5e0ad484-5399-4f0c-a5d8-55fed12cb01d",
   "metadata": {},
   "outputs": [],
   "source": [
    "from sklearn.metrics.pairwise import cosine_similarity\n",
    "import numpy as np\n",
    "import re\n",
    "\n",
    "def search_book(query, vectorizer):\n",
    "    processed=re.sub(\"[^a-zA-Z0-9]\", \"\", query.lower())\n",
    "    query_vec=vectorizer.transform([processed])\n",
    "    similarity=cosine_similarity(query_vec, tfidf).flatten()\n",
    "    indices=np.argpartition(similarity, -10)[-10:]\n",
    "    results=titles.iloc[indices]\n",
    "    results=results.sort_values('rating_count', ascending=False)\n",
    "    return results.head(5)"
   ]
  },
  {
   "cell_type": "code",
   "execution_count": 45,
   "id": "2e21056d-d47f-4a15-8519-84b8e8715ba1",
   "metadata": {},
   "outputs": [],
   "source": [
    "from sklearn.metrics.pairwise import cosine_similarity\n",
    "import numpy as np\n",
    "import re\n",
    "\n",
    "def make_clickable(val):\n",
    "    return '<a target=\"_blank\" href=\"{}\">Goodreads</a>'.format(val, val)\n",
    "\n",
    "def show_image(val):\n",
    "    return '<a href=\"{}\"><img src=\"{}\" width=50></img></a>'.format(val, val)\n",
    "\n",
    "def search(query,vectorizer):\n",
    "    processed = re.sub(\"[^a-zA-Z0-9 ]\", \"\", query.lower())\n",
    "    query_vec = vectorizer.transform([query])\n",
    "    similarity = cosine_similarity(query_vec, tfidf).flatten()\n",
    "    indices = np.argpartition(similarity, -10)[-10:]\n",
    "    results = titles.iloc[indices]\n",
    "    results = results.sort_values(\"rating_count\", ascending=False)\n",
    "    \n",
    "    return results.head(5).style.format({'url': make_clickable, 'cover_image': show_image})"
   ]
  },
  {
   "cell_type": "code",
   "execution_count": 55,
   "id": "bd7fd143-7f90-472f-80d3-9cc45f1f92cf",
   "metadata": {},
   "outputs": [
    {
     "data": {
      "text/html": [
       "<style type=\"text/css\">\n",
       "</style>\n",
       "<table id=\"T_40434\">\n",
       "  <thead>\n",
       "    <tr>\n",
       "      <th class=\"blank level0\" >&nbsp;</th>\n",
       "      <th id=\"T_40434_level0_col0\" class=\"col_heading level0 col0\" >book_id</th>\n",
       "      <th id=\"T_40434_level0_col1\" class=\"col_heading level0 col1\" >title</th>\n",
       "      <th id=\"T_40434_level0_col2\" class=\"col_heading level0 col2\" >rating_count</th>\n",
       "      <th id=\"T_40434_level0_col3\" class=\"col_heading level0 col3\" >url</th>\n",
       "      <th id=\"T_40434_level0_col4\" class=\"col_heading level0 col4\" >cover_image</th>\n",
       "      <th id=\"T_40434_level0_col5\" class=\"col_heading level0 col5\" >mod_titles</th>\n",
       "    </tr>\n",
       "  </thead>\n",
       "  <tbody>\n",
       "    <tr>\n",
       "      <th id=\"T_40434_level0_row0\" class=\"row_heading level0 row0\" >371605</th>\n",
       "      <td id=\"T_40434_row0_col0\" class=\"data row0 col0\" >2068</td>\n",
       "      <td id=\"T_40434_row0_col1\" class=\"data row0 col1\" >Darwin's Dangerous Idea: Evolution and the Meanings of Life</td>\n",
       "      <td id=\"T_40434_row0_col2\" class=\"data row0 col2\" >11349</td>\n",
       "      <td id=\"T_40434_row0_col3\" class=\"data row0 col3\" ><a target=\"_blank\" href=\"https://www.goodreads.com/book/show/2068.Darwin_s_Dangerous_Idea\">Goodreads</a></td>\n",
       "      <td id=\"T_40434_row0_col4\" class=\"data row0 col4\" ><a href=\"https://s.gr-assets.com/assets/nophoto/book/111x148-bcc042a9c91a29c1d680899eff700a03.png\"><img src=\"https://s.gr-assets.com/assets/nophoto/book/111x148-bcc042a9c91a29c1d680899eff700a03.png\" width=50></img></a></td>\n",
       "      <td id=\"T_40434_row0_col5\" class=\"data row0 col5\" >darwin s dangerous idea evolution and the meanings of life</td>\n",
       "    </tr>\n",
       "    <tr>\n",
       "      <th id=\"T_40434_level0_row1\" class=\"row_heading level0 row1\" >357145</th>\n",
       "      <td id=\"T_40434_row1_col0\" class=\"data row1 col0\" >185408</td>\n",
       "      <td id=\"T_40434_row1_col1\" class=\"data row1 col1\" >Darwin</td>\n",
       "      <td id=\"T_40434_row1_col2\" class=\"data row1 col2\" >229</td>\n",
       "      <td id=\"T_40434_row1_col3\" class=\"data row1 col3\" ><a target=\"_blank\" href=\"https://www.goodreads.com/book/show/185408.Darwin\">Goodreads</a></td>\n",
       "      <td id=\"T_40434_row1_col4\" class=\"data row1 col4\" ><a href=\"https://s.gr-assets.com/assets/nophoto/book/111x148-bcc042a9c91a29c1d680899eff700a03.png\"><img src=\"https://s.gr-assets.com/assets/nophoto/book/111x148-bcc042a9c91a29c1d680899eff700a03.png\" width=50></img></a></td>\n",
       "      <td id=\"T_40434_row1_col5\" class=\"data row1 col5\" >darwin</td>\n",
       "    </tr>\n",
       "    <tr>\n",
       "      <th id=\"T_40434_level0_row2\" class=\"row_heading level0 row2\" >1115052</th>\n",
       "      <td id=\"T_40434_row2_col0\" class=\"data row2 col0\" >64829</td>\n",
       "      <td id=\"T_40434_row2_col1\" class=\"data row2 col1\" >Zero: The Biography of a Dangerous Idea</td>\n",
       "      <td id=\"T_40434_row2_col2\" class=\"data row2 col2\" >202</td>\n",
       "      <td id=\"T_40434_row2_col3\" class=\"data row2 col3\" ><a target=\"_blank\" href=\"https://www.goodreads.com/book/show/64829.Zero\">Goodreads</a></td>\n",
       "      <td id=\"T_40434_row2_col4\" class=\"data row2 col4\" ><a href=\"https://s.gr-assets.com/assets/nophoto/book/111x148-bcc042a9c91a29c1d680899eff700a03.png\"><img src=\"https://s.gr-assets.com/assets/nophoto/book/111x148-bcc042a9c91a29c1d680899eff700a03.png\" width=50></img></a></td>\n",
       "      <td id=\"T_40434_row2_col5\" class=\"data row2 col5\" >zero the biography of a dangerous idea</td>\n",
       "    </tr>\n",
       "    <tr>\n",
       "      <th id=\"T_40434_level0_row3\" class=\"row_heading level0 row3\" >96387</th>\n",
       "      <td id=\"T_40434_row3_col0\" class=\"data row3 col0\" >6162654</td>\n",
       "      <td id=\"T_40434_row3_col1\" class=\"data row3 col1\" >Darwin</td>\n",
       "      <td id=\"T_40434_row3_col2\" class=\"data row3 col2\" >100</td>\n",
       "      <td id=\"T_40434_row3_col3\" class=\"data row3 col3\" ><a target=\"_blank\" href=\"https://www.goodreads.com/book/show/6162654-darwin\">Goodreads</a></td>\n",
       "      <td id=\"T_40434_row3_col4\" class=\"data row3 col4\" ><a href=\"https://s.gr-assets.com/assets/nophoto/book/111x148-bcc042a9c91a29c1d680899eff700a03.png\"><img src=\"https://s.gr-assets.com/assets/nophoto/book/111x148-bcc042a9c91a29c1d680899eff700a03.png\" width=50></img></a></td>\n",
       "      <td id=\"T_40434_row3_col5\" class=\"data row3 col5\" >darwin</td>\n",
       "    </tr>\n",
       "    <tr>\n",
       "      <th id=\"T_40434_level0_row4\" class=\"row_heading level0 row4\" >1011844</th>\n",
       "      <td id=\"T_40434_row4_col0\" class=\"data row4 col0\" >141720</td>\n",
       "      <td id=\"T_40434_row4_col1\" class=\"data row4 col1\" >Darwin's Dangerous Idea: Evolution and the Meanings of Life</td>\n",
       "      <td id=\"T_40434_row4_col2\" class=\"data row4 col2\" >96</td>\n",
       "      <td id=\"T_40434_row4_col3\" class=\"data row4 col3\" ><a target=\"_blank\" href=\"https://www.goodreads.com/book/show/141720.Darwin_s_Dangerous_Idea\">Goodreads</a></td>\n",
       "      <td id=\"T_40434_row4_col4\" class=\"data row4 col4\" ><a href=\"https://images.gr-assets.com/books/1327878434m/141720.jpg\"><img src=\"https://images.gr-assets.com/books/1327878434m/141720.jpg\" width=50></img></a></td>\n",
       "      <td id=\"T_40434_row4_col5\" class=\"data row4 col5\" >darwin s dangerous idea evolution and the meanings of life</td>\n",
       "    </tr>\n",
       "  </tbody>\n",
       "</table>\n"
      ],
      "text/plain": [
       "<pandas.io.formats.style.Styler at 0x1b0b84c1a60>"
      ]
     },
     "execution_count": 55,
     "metadata": {},
     "output_type": "execute_result"
    }
   ],
   "source": [
    "search(\"Darwin's Dangerous Idea\", vectorizer)"
   ]
  },
  {
   "cell_type": "code",
   "execution_count": null,
   "id": "8c4fd772-f7a8-456e-85bb-325b237bed53",
   "metadata": {},
   "outputs": [],
   "source": []
  },
  {
   "cell_type": "code",
   "execution_count": null,
   "id": "47f205c9-342f-4e5c-b94e-8337926a7599",
   "metadata": {},
   "outputs": [],
   "source": []
  },
  {
   "cell_type": "code",
   "execution_count": null,
   "id": "314cf91d-f7c5-4e4d-80f2-28901bef1c50",
   "metadata": {},
   "outputs": [],
   "source": []
  }
 ],
 "metadata": {
  "kernelspec": {
   "display_name": "Python 3 (ipykernel)",
   "language": "python",
   "name": "python3"
  },
  "language_info": {
   "codemirror_mode": {
    "name": "ipython",
    "version": 3
   },
   "file_extension": ".py",
   "mimetype": "text/x-python",
   "name": "python",
   "nbconvert_exporter": "python",
   "pygments_lexer": "ipython3",
   "version": "3.12.4"
  }
 },
 "nbformat": 4,
 "nbformat_minor": 5
}
